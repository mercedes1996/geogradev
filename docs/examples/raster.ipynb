{
 "cells": [
  {
   "cell_type": "code",
   "execution_count": null,
   "metadata": {},
   "outputs": [],
   "source": [
    "import os\n",
    "import rasterio\n",
    "import rasterio.plot\n",
    "from ipyleaflet import Map"
   ]
  },
  {
   "cell_type": "code",
   "execution_count": null,
   "metadata": {},
   "outputs": [],
   "source": [
    "m = Map(center=(25, -115), zoom=4)"
   ]
  },
  {
   "cell_type": "code",
   "execution_count": null,
   "metadata": {},
   "outputs": [],
   "source": [
    "# 1. Demonstrate adding a raster layer using TileLayer\n",
    "\n",
    "raster_layer = TileLayer(\n",
    "    url=cog_url, name=\"DEM\", opacity=0.8\n",
    ")  # Ensure cog_url is defined\n",
    "m.add_layer(raster_layer)  # Add the raster layer to the map\n",
    "m  # Display the map"
   ]
  },
  {
   "cell_type": "code",
   "execution_count": null,
   "metadata": {},
   "outputs": [],
   "source": [
    "# 2. Demonstrate adding an image overlay\n",
    "from ipyleaflet import ImageOverlay\n",
    "\n",
    "image_url = \"https://i0.wp.com/www.actualidadambiental.pe/wp-content/uploads/2013/03/colibri-cola-de-espatula-michael-tweddle.jpg\"\n",
    "image_bounds = ((20, -150), (40, -120))  # Example bounds for the image overlay\n",
    "image_overlay = ImageOverlay(\n",
    "    url=image_url, bounds=image_bounds, name=\"NASA Night Lights\", opacity=0.7\n",
    ")\n",
    "m.add_layer(image_overlay)\n",
    "m"
   ]
  },
  {
   "cell_type": "code",
   "execution_count": null,
   "metadata": {},
   "outputs": [],
   "source": [
    "# 3. Demonstrate adding a video overlay\n",
    "\n",
    "image = ImageOverlay(\n",
    "    url=\"https://i.gifer.com/5yE.gif\",\n",
    "    bounds=((13, 100), (45, 130)),\n",
    "    opacity=0.8,\n",
    "    name=\"Animated Image\",\n",
    ")\n",
    "\n",
    "m.add(image)\n",
    "m"
   ]
  },
  {
   "cell_type": "code",
   "execution_count": null,
   "metadata": {},
   "outputs": [],
   "source": [
    "# 4. Demonstrate adding a WMS layer\n",
    "from ipyleaflet import WMSLayer, basemaps\n",
    "\n",
    "wms = WMSLayer(\n",
    "    url=\"http://mesonet.agron.iastate.edu/cgi-bin/wms/nexrad/n0r.cgi\",\n",
    "    layers=\"nexrad-n0r-900913\",\n",
    "    format=\"image/png\",\n",
    "    transparent=True,\n",
    "    attribution=\"Weather data © 2012 IEM Nexrad\",\n",
    ")\n",
    "\n",
    "m = Map(basemap=basemaps.CartoDB.Positron, center=(38.491, -95.712), zoom=4)\n",
    "m.add(wms)\n",
    "m"
   ]
  },
  {
   "cell_type": "code",
   "execution_count": null,
   "metadata": {},
   "outputs": [],
   "source": []
  }
 ],
 "metadata": {
  "kernelspec": {
   "display_name": "geo",
   "language": "python",
   "name": "python3"
  },
  "language_info": {
   "codemirror_mode": {
    "name": "ipython",
    "version": 3
   },
   "file_extension": ".py",
   "mimetype": "text/x-python",
   "name": "python",
   "nbconvert_exporter": "python",
   "pygments_lexer": "ipython3",
   "version": "3.12.9"
  }
 },
 "nbformat": 4,
 "nbformat_minor": 2
}
