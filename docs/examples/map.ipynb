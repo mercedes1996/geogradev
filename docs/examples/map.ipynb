{
 "cells": [
  {
   "cell_type": "markdown",
   "metadata": {},
   "source": [
    "# Create interactive maps\n",
    "[![Open In Colab](https://colab.research.google.com/assets/colab-badge.svg)](https://colab.research.google.com/github/mercedes1996/geogradev/blob/main/docs/examples/map.ipynb)\n"
   ]
  },
  {
   "cell_type": "code",
   "execution_count": null,
   "metadata": {},
   "outputs": [],
   "source": [
    "import geogradev"
   ]
  },
  {
   "cell_type": "code",
   "execution_count": null,
   "metadata": {},
   "outputs": [],
   "source": [
    "import ipyleaflet\n",
    "from ipyleaflet import TileLayer\n",
    "from ipyleaflet import GeoJSON\n",
    "import json\n",
    "import geopandas as gpd"
   ]
  },
  {
   "cell_type": "code",
   "execution_count": null,
   "metadata": {},
   "outputs": [],
   "source": [
    "m = ipyleaflet.Map(center=(20, 0), zoom=2)\n",
    "url = \"https://github.com/opengeos/datasets/releases/download/world/continents.geojson\"\n",
    "gdf = gpd.read_file(url)\n",
    "data = gdf.__geo_interface__\n",
    "gj = GeoJSON(data=data)\n",
    "m.add_layer(gj)\n",
    "\n",
    "bounds = gdf.total_bounds\n",
    "m.fit_bounds([[bounds[1], bounds[0]], [bounds[3], bounds[2]]])\n",
    "\n",
    "m"
   ]
  },
  {
   "cell_type": "code",
   "execution_count": null,
   "metadata": {},
   "outputs": [],
   "source": [
    "gdf.total_bounds"
   ]
  },
  {
   "cell_type": "code",
   "execution_count": null,
   "metadata": {},
   "outputs": [],
   "source": [
    "m.fit_bounds(\n",
    "    [\n",
    "        [gdf.total_bounds[1], gdf.total_bounds[0]],\n",
    "        [gdf.total_bounds[3], gdf.total_bounds[2]],\n",
    "    ]\n",
    ")"
   ]
  },
  {
   "cell_type": "code",
   "execution_count": null,
   "metadata": {},
   "outputs": [],
   "source": [
    "m = ipyleaflet.Map(center=(20, 0), zoom=2)\n",
    "url = \"https://github.com/opengeos/datasets/releases/download/us/us_southeast.geojson\"\n",
    "gdf = gpd.read_file(url)\n",
    "data = gdf.__geo_interface__\n",
    "gj = GeoJSON(data=data)\n",
    "m.add_layer(gj)\n",
    "\n",
    "bounds = gdf.total_bounds\n",
    "m.fit_bounds([[bounds[1], bounds[0]], [bounds[3], bounds[2]]])\n",
    "m"
   ]
  },
  {
   "cell_type": "code",
   "execution_count": null,
   "metadata": {},
   "outputs": [],
   "source": [
    "import geogradev"
   ]
  },
  {
   "cell_type": "code",
   "execution_count": null,
   "metadata": {},
   "outputs": [],
   "source": [
    "import ipyleaflet\n",
    "import json\n",
    "\n",
    "m = ipyleaflet.Map(center=(20, 0), zoom=2)\n",
    "\n",
    "# Load the GeoJSON file\n",
    "url = r\"c:\\Users\\Mercedes\\Downloads\\us_cities.geojson\"\n",
    "with open(url, \"r\") as f:\n",
    "    geojson_data = json.load(f)\n",
    "\n",
    "# Create a GeoJSON layer\n",
    "geojson_layer = ipyleaflet.GeoJSON(\n",
    "    data=geojson_data, hover_style={\"fillColor\": \"red\"}, zoom_to_layer=False\n",
    ")\n",
    "\n",
    "# Add the GeoJSON layer to the map\n",
    "m.add_layer(geojson_layer)\n",
    "\n",
    "# Display the map\n",
    "m"
   ]
  },
  {
   "cell_type": "code",
   "execution_count": null,
   "metadata": {},
   "outputs": [],
   "source": []
  }
 ],
 "metadata": {
  "kernelspec": {
   "display_name": "geo",
   "language": "python",
   "name": "python3"
  },
  "language_info": {
   "codemirror_mode": {
    "name": "ipython",
    "version": 3
   },
   "file_extension": ".py",
   "mimetype": "text/x-python",
   "name": "python",
   "nbconvert_exporter": "python",
   "pygments_lexer": "ipython3",
   "version": "3.12.9"
  }
 },
 "nbformat": 4,
 "nbformat_minor": 2
}
