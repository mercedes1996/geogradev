{
 "cells": [
  {
   "cell_type": "code",
   "execution_count": null,
   "metadata": {},
   "outputs": [],
   "source": [
    "import geogradev.foliumap as geogradev"
   ]
  },
  {
   "cell_type": "code",
   "execution_count": null,
   "metadata": {},
   "outputs": [],
   "source": [
    "import ipyleaflet\n",
    "\n",
    "\n",
    "class Map(ipyleaflet.Map):\n",
    "    def add_split_map_control(self, left_layer, right_layer):\n",
    "        \"\"\"Adds a split map control to compare two layers.\"\"\"\n",
    "        split_map = ipyleaflet.SplitMapControl(\n",
    "            left_layer=left_layer, right_layer=right_layer\n",
    "        )\n",
    "        self.add_control(split_map)"
   ]
  },
  {
   "cell_type": "code",
   "execution_count": null,
   "metadata": {},
   "outputs": [],
   "source": [
    "m = Map(center=(0, 0), zoom=2)\n",
    "m.add_split_map_control(\n",
    "    left_layer=ipyleaflet.TileLayer(url=\"https://{s}.title.org/{z}/{x}/{y}.png\"),\n",
    "    right_layer=ipyleaflet.TileLayer(\n",
    "        url=\"https://{s}.tile.Esri.openstreetmap.org/{z}/{x}/{y}.png\"\n",
    "    ),\n",
    ")\n",
    "m"
   ]
  }
 ],
 "metadata": {
  "kernelspec": {
   "display_name": "geo",
   "language": "python",
   "name": "python3"
  },
  "language_info": {
   "codemirror_mode": {
    "name": "ipython",
    "version": 3
   },
   "file_extension": ".py",
   "mimetype": "text/x-python",
   "name": "python",
   "nbconvert_exporter": "python",
   "pygments_lexer": "ipython3",
   "version": "3.12.9"
  }
 },
 "nbformat": 4,
 "nbformat_minor": 2
}
