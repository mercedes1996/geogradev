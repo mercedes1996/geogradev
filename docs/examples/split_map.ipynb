{
 "cells": [
  {
   "cell_type": "code",
   "execution_count": null,
   "metadata": {},
   "outputs": [],
   "source": [
    "import geogradev.foliumap as geogradev"
   ]
  },
  {
   "cell_type": "code",
   "execution_count": null,
   "metadata": {},
   "outputs": [],
   "source": [
    "m = geogradev.Map()\n",
    "m.add_split_map(left=\"openstreetmap\", right=\"Esri.WorldImagery\")\n",
    "m.add_layer_control()\n",
    "m"
   ]
  },
  {
   "cell_type": "code",
   "execution_count": null,
   "metadata": {},
   "outputs": [],
   "source": [
    "m = leafmap.Map(height=500)\n",
    "m.split_map(left_layer=\"TERRAIN\", right_layer=\"OpenTopoMap\")\n",
    "m"
   ]
  },
  {
   "cell_type": "code",
   "execution_count": null,
   "metadata": {},
   "outputs": [],
   "source": [
    "import ipyleaflet\n",
    "\n",
    "\n",
    "class Map(ipyleaflet.Map):\n",
    "    def add_split_map(self, left=\"openstreetmap\", right=\"Esri.WorldImagery\"):\n",
    "        split_map = ipyleaflet.SplitMapControl(\n",
    "            left_layer=ipyleaflet.TileLayer(url=ipyleaflet.basemaps[left].url),\n",
    "            right_layer=ipyleaflet.TileLayer(url=ipyleaflet.basemaps[right].url),\n",
    "        )\n",
    "        self.add_control(split_map)"
   ]
  },
  {
   "cell_type": "code",
   "execution_count": null,
   "metadata": {},
   "outputs": [],
   "source": [
    "m =geogradev.Map(center=[32.7748, 22.6282], zoom=13)\n",
    "left = "
   ]
  }
 ],
 "metadata": {
  "kernelspec": {
   "display_name": "geo",
   "language": "python",
   "name": "python3"
  },
  "language_info": {
   "codemirror_mode": {
    "name": "ipython",
    "version": 3
   },
   "file_extension": ".py",
   "mimetype": "text/x-python",
   "name": "python",
   "nbconvert_exporter": "python",
   "pygments_lexer": "ipython3",
   "version": "3.12.9"
  }
 },
 "nbformat": 4,
 "nbformat_minor": 2
}
