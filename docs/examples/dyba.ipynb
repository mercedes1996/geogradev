{
 "cells": [
  {
   "cell_type": "markdown",
   "metadata": {},
   "source": [
    "# [![Open In Colab](https://colab.research.google.com/assets/colab-badge.svg)](https://colab.research.google.com/github/mercedes1996/geogradev/blob/main/docs/examples/dyba.ipynb)\n"
   ]
  },
  {
   "cell_type": "markdown",
   "metadata": {},
   "source": [
    "### This is a dynamic basemap "
   ]
  },
  {
   "cell_type": "code",
   "execution_count": null,
   "metadata": {},
   "outputs": [],
   "source": []
  },
  {
   "cell_type": "code",
   "execution_count": null,
   "metadata": {},
   "outputs": [],
   "source": [
    "from ipyleaflet import Map, basemaps\n",
    "from ipywidgets import Dropdown, Button, VBox, Layout\n",
    "import ipyleaflet"
   ]
  },
  {
   "cell_type": "code",
   "execution_count": null,
   "metadata": {},
   "outputs": [],
   "source": [
    "apa = Map(center=(40, -100), zoom=4)\n",
    "dropdown = Dropdown(\n",
    "    options={\n",
    "        \"OpenStreetMap\": basemaps.OpenStreetMap.Mapnik,\n",
    "        \"OpenTopoMap\": basemaps.OpenTopoMap,\n",
    "        \"Satellite\": basemaps.Esri.WorldImagery,\n",
    "        \"Dark\": basemaps.CartoDB.DarkMatter,\n",
    "    },\n",
    "    description=\"Basemap:\",\n",
    ")\n",
    "dropdown.observe(lambda change: setattr(apa, \"basemap\", change[\"new\"]), names=\"value\")\n",
    "apa.add_control(ipyleaflet.WidgetControl(widget=dropdown, position=\"topright\"))\n",
    "apa"
   ]
  },
  {
   "cell_type": "code",
   "execution_count": null,
   "metadata": {},
   "outputs": [],
   "source": [
    "boton = Button(description=\"Ocultar\")\n",
    "\n",
    "\n",
    "def toggle(b):\n",
    "    dropdown.layout.visibility = (\n",
    "        \"hidden\" if dropdown.layout.visibility != \"hidden\" else \"visible\"\n",
    "    )\n",
    "    boton.description = (\n",
    "        \"Mostrar\" if dropdown.layout.visibility == \"hidden\" else \"Ocultar\"\n",
    "    )\n",
    "\n",
    "\n",
    "boton.on_click(toggle)\n",
    "apa.add_control(\n",
    "    ipyleaflet.WidgetControl(widget=VBox([dropdown, boton]), position=\"topright\")\n",
    ")\n",
    "apa"
   ]
  },
  {
   "cell_type": "code",
   "execution_count": null,
   "metadata": {},
   "outputs": [],
   "source": [
    "class MapaInteractivo(Map):\n",
    "    def __init__(self, **kwargs):\n",
    "        super().__init__(**kwargs)\n",
    "        self._configurar_controles()\n",
    "\n",
    "    def _configurar_controles(self):\n",
    "        self.dropdown = Dropdown(\n",
    "            options=[\n",
    "                (\"OpenStreetMap\", basemaps.OpenStreetMap.Mapnik),\n",
    "                (\"OpenTopoMap\", basemaps.OpenTopoMap),\n",
    "                (\"Satellite\", basemaps.Esri.WorldImagery),\n",
    "                (\"Dark\", basemaps.CartoDB.DarkMatter),\n",
    "            ],\n",
    "            description=\"Mapa:\",\n",
    "        )\n",
    "\n",
    "        self.boton = Button(description=\"Ocultar\")\n",
    "\n",
    "        self.dropdown.observe(lambda c: setattr(self, \"basemap\", c[\"new\"]), \"value\")\n",
    "        self.boton.on_click(\n",
    "            lambda b: [\n",
    "                setattr(\n",
    "                    self.dropdown.layout,\n",
    "                    \"visibility\",\n",
    "                    (\n",
    "                        \"hidden\"\n",
    "                        if self.dropdown.layout.visibility != \"hidden\"\n",
    "                        else \"visible\"\n",
    "                    ),\n",
    "                ),\n",
    "                setattr(\n",
    "                    self.boton,\n",
    "                    \"description\",\n",
    "                    (\n",
    "                        \"Mostrar\"\n",
    "                        if self.dropdown.layout.visibility == \"hidden\"\n",
    "                        else \"Ocultar\"\n",
    "                    ),\n",
    "                ),\n",
    "            ]\n",
    "        )\n",
    "\n",
    "        self.add_control(\n",
    "            ipyleaflet.WidgetControl(\n",
    "                widget=VBox([self.dropdown, self.boton]), position=\"topright\"\n",
    "            )\n",
    "        )"
   ]
  },
  {
   "cell_type": "code",
   "execution_count": null,
   "metadata": {},
   "outputs": [],
   "source": [
    "mi_mapa = MapaInteractivo(center=(40, -100), zoom=4)\n",
    "mi_mapa"
   ]
  }
 ],
 "metadata": {
  "kernelspec": {
   "display_name": "geo",
   "language": "python",
   "name": "python3"
  },
  "language_info": {
   "codemirror_mode": {
    "name": "ipython",
    "version": 3
   },
   "file_extension": ".py",
   "mimetype": "text/x-python",
   "name": "python",
   "nbconvert_exporter": "python",
   "pygments_lexer": "ipython3",
   "version": "3.12.9"
  }
 },
 "nbformat": 4,
 "nbformat_minor": 2
}
