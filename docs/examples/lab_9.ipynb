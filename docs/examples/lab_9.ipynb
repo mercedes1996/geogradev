{
 "cells": [
  {
   "cell_type": "markdown",
   "metadata": {},
   "source": [
    "# Creation of Interactive Map for Native Communities of San Martín, Peru\n",
    "### Hello friends, I am going to guide you step by step to create an interactive map focused on the department of San Martín, Peru, showing relevant information about native communities."
   ]
  },
  {
   "cell_type": "code",
   "execution_count": null,
   "metadata": {},
   "outputs": [],
   "source": [
    "pip install leafmap geopandas"
   ]
  },
  {
   "cell_type": "code",
   "execution_count": null,
   "metadata": {},
   "outputs": [],
   "source": [
    "pip install geopandas leafmap"
   ]
  },
  {
   "cell_type": "code",
   "execution_count": null,
   "metadata": {},
   "outputs": [],
   "source": [
    "import leafmap\n",
    "import geopandas as gpd"
   ]
  },
  {
   "cell_type": "code",
   "execution_count": null,
   "metadata": {},
   "outputs": [],
   "source": [
    "m = leafmap.Map()\n",
    "m"
   ]
  },
  {
   "cell_type": "code",
   "execution_count": null,
   "metadata": {},
   "outputs": [],
   "source": [
    "# 1. Create map centered on San Martín, Peru\n",
    "m = leafmap.Map(center=[-10, -78], zoom=6)\n",
    "url = \"https://nominatim.openstreetmap.org/search?format=json&q={s}\"\n",
    "m.add_search_control(url, zoom=10, position=\"topleft\")\n",
    "m"
   ]
  },
  {
   "cell_type": "code",
   "execution_count": null,
   "metadata": {},
   "outputs": [],
   "source": [
    "# 2  Add ESA World Cover layer\n",
    "url_wms = \"https://services.terrascope.be/wms/v2?\"\n",
    "m.add_wms_layer(\n",
    "    url=url_wms,\n",
    "    layers=\"WORLDCOVER_2021_MAP\",\n",
    "    name=\"ESA World Cover\",\n",
    "    format=\"image/png\",\n",
    "    transparent=True,\n",
    ")\n",
    "\n",
    "# Add legend\n",
    "m.add_legend(title=\"ESA World Cover\", builtin_legend=\"ESA_WorldCover\")"
   ]
  },
  {
   "cell_type": "code",
   "execution_count": null,
   "metadata": {},
   "outputs": [],
   "source": [
    "# 3 Question\n",
    "# 1. Load the GeoJSON (using your absolute path)\n",
    "ruta_geojson = (\n",
    "    r\"C:\\Users\\Mercedes\\Documents\\geogradev\\CCNN_PERU.geojson\"  # Ajusta esta ruta\n",
    ")\n",
    "gdf = gpd.read_file(ruta_geojson)\n",
    "\n",
    "# 2. Extract coordinates (if not in separate columns)\n",
    "if \"latitude\" not in gdf.columns:\n",
    "    gdf[\"latitude\"] = gdf.geometry.y\n",
    "    gdf[\"longitude\"] = gdf.geometry.x\n",
    "\n",
    "# 3. Create map with custom clusters and popups\n",
    "m = leafmap.Map(center=[-9.19, -75.0], zoom=5)  # Focused on Peru\n",
    "m.add_basemap(\"Esri.WorldTopoMap\")\n",
    "\n",
    "# 4. Add bookmarks with your specific columns\n",
    "m.add_circle_markers_from_xy(\n",
    "    gdf,\n",
    "    x=\"longitude\",  # Make sure these columns exist in your GeoDataFrame\n",
    "    y=\"latitude\",\n",
    "    radius=5,\n",
    "    color=\"red\",  # Outline color\n",
    "    fill_color=\"yellow\",  # Fill color\n",
    "    fill_opacity=0.8,\n",
    "    weight=2,  # Outline width\n",
    "    name=\"Comunidades Nativas\",  # Layer name\n",
    ")\n",
    "# 5. Add controls and legend\n",
    "m.add_legend(title=\"Leyenda\", legend_dict={\"Comunidad Nativa\": \"yellow\"})\n",
    "m.add_layer_control()\n",
    "\n",
    "# Show map\n",
    "m"
   ]
  },
  {
   "cell_type": "code",
   "execution_count": null,
   "metadata": {},
   "outputs": [],
   "source": [
    "# question 4\n",
    "# Create map centered on San Martin\n",
    "m = leafmap.Map(center=[-6.9, -76.3], zoom=8)\n",
    "m.add_basemap(\"Esri.WorldTopoMap\")\n",
    "\n",
    "poligonos_ccnn = gpd.read_file(\n",
    "    r\"C:\\Users\\Mercedes\\Documents\\geogradev\\poligonos_sanmartin_ccnn.geojson\"\n",
    ")\n",
    "\n",
    "m.add_gdf(\n",
    "    poligonos_ccnn,\n",
    "    style={\n",
    "        \"color\": \"green\",  # Color del borde\n",
    "        \"fillColor\": \"none\",  # Sin relleno\n",
    "        \"weight\": 1,  # Grosor del borde\n",
    "        \"opacity\": 0.7,  # Transparencia\n",
    "    },\n",
    "    layer_name=\"Comunidades Nativas\",\n",
    "    zoom_to_layer=False,\n",
    ")\n",
    "\n",
    "vias_acceso = gpd.read_file(\n",
    "    r\"C:\\Users\\Mercedes\\Documents\\geogradev\\vias_accesso_sanmartin.geojson\"\n",
    ")\n",
    "\n",
    "m.add_gdf(\n",
    "    vias_acceso,\n",
    "    style={\n",
    "        \"color\": \"red\",\n",
    "        \"weight\": 1,\n",
    "        \"lineJoin\": \"round\",  # Estilo de unión de líneas\n",
    "    },\n",
    "    layer_name=\"Vías de Acceso\",\n",
    "    zoom_to_layer=False,\n",
    ")\n",
    "m.add_legend(\n",
    "    title=\"Leyenda\",\n",
    "    legend_dict={\n",
    "        \"Comunidades Nativas\": \"green\",\n",
    "        \"Vías Principales\": \"red\",\n",
    "    },\n",
    ")\n",
    "\n",
    "# Control of layers and zoom to the area of ​​interest\n",
    "m.add_layer_control()\n",
    "m.zoom_to_gdf(poligonos_ccnn)\n",
    "\n",
    "# Show map\n",
    "m"
   ]
  }
 ],
 "metadata": {
  "kernelspec": {
   "display_name": "geo",
   "language": "python",
   "name": "python3"
  },
  "language_info": {
   "codemirror_mode": {
    "name": "ipython",
    "version": 3
   },
   "file_extension": ".py",
   "mimetype": "text/x-python",
   "name": "python",
   "nbconvert_exporter": "python",
   "pygments_lexer": "ipython3",
   "version": "3.12.9"
  }
 },
 "nbformat": 4,
 "nbformat_minor": 2
}
