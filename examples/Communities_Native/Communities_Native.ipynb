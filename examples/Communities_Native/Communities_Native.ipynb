{
 "cells": [
  {
   "cell_type": "markdown",
   "metadata": {},
   "source": [
    "# Creation of Interactive Map for Native Communities of San Martín, Peru\n",
    "### Hello friends, I am going to guide you step by step to create an interactive map focused on the department of San Martín, Peru, showing relevant information about native communities."
   ]
  },
  {
   "cell_type": "code",
   "execution_count": null,
   "metadata": {},
   "outputs": [],
   "source": [
    "pip install leafmap geopandas"
   ]
  },
  {
   "cell_type": "code",
   "execution_count": null,
   "metadata": {},
   "outputs": [],
   "source": [
    "pip install geopandas leafmap"
   ]
  },
  {
   "cell_type": "code",
   "execution_count": null,
   "metadata": {},
   "outputs": [],
   "source": [
    "import leafmap\n",
    "import geopandas as gpd\n",
    "from datetime import datetime"
   ]
  },
  {
   "cell_type": "code",
   "execution_count": null,
   "metadata": {},
   "outputs": [],
   "source": [
    "m = leafmap.Map()\n",
    "m"
   ]
  },
  {
   "cell_type": "code",
   "execution_count": null,
   "metadata": {},
   "outputs": [],
   "source": [
    "# 1. Create map centered on San Martín, Peru\n",
    "m = leafmap.Map(center=[-10, -78], zoom=6)\n",
    "url = \"https://nominatim.openstreetmap.org/search?format=json&q={s}\"\n",
    "m.add_search_control(url, zoom=10, position=\"topleft\")\n",
    "m"
   ]
  },
  {
   "cell_type": "code",
   "execution_count": null,
   "metadata": {},
   "outputs": [],
   "source": [
    "# 2  Add ESA World Cover layer\n",
    "url_wms = \"https://services.terrascope.be/wms/v2?\"\n",
    "m.add_wms_layer(\n",
    "    url=url_wms,\n",
    "    layers=\"WORLDCOVER_2021_MAP\",\n",
    "    name=\"ESA World Cover\",\n",
    "    format=\"image/png\",\n",
    "    transparent=True,\n",
    ")\n",
    "\n",
    "# Add legend\n",
    "m.add_legend(title=\"ESA World Cover\", builtin_legend=\"ESA_WorldCover\")"
   ]
  },
  {
   "cell_type": "code",
   "execution_count": null,
   "metadata": {},
   "outputs": [],
   "source": [
    "# 3 Question\n",
    "url_geojson = \"https://raw.githubusercontent.com/mercedes1996/geogradev/main/docs/data/CCNN_PERU.geojson\"\n",
    "gdf = gpd.read_file(url_geojson)\n",
    "\n",
    "if \"latitude\" not in gdf.columns:\n",
    "    gdf[\"latitude\"] = gdf.geometry.y\n",
    "    gdf[\"longitude\"] = gdf.geometry.x\n",
    "\n",
    "m = leafmap.Map(center=[-9.19, -75.0], zoom=5)\n",
    "m.add_basemap(\"Esri.WorldTopoMap\")\n",
    "\n",
    "m.add_circle_markers_from_xy(\n",
    "    gdf,\n",
    "    x=\"longitude\",\n",
    "    y=\"latitude\",\n",
    "    radius=5,\n",
    "    color=\"red\",\n",
    "    fill_color=\"yellow\",\n",
    "    fill_opacity=0.8,\n",
    "    weight=2,\n",
    "    name=\"Comunidades Nativas\",\n",
    ")\n",
    "\n",
    "m.add_legend(title=\"Leyenda\", legend_dict={\"Comunidad Nativa\": \"yellow\"})\n",
    "m.add_layer_control()\n",
    "\n",
    "# Show map\n",
    "m"
   ]
  },
  {
   "cell_type": "code",
   "execution_count": null,
   "metadata": {},
   "outputs": [],
   "source": [
    "# question 4\n",
    "m = leafmap.Map(center=[-6.9, -76.3], zoom=8)\n",
    "m.add_basemap(\"Esri.WorldTopoMap\")\n",
    "\n",
    "poligonos_ccnn = gpd.read_file(\n",
    "    \"https://raw.githubusercontent.com/mercedes1996/geogradev/main/docs/data/poligonos_sanmartin_ccnn.geojson\"\n",
    ")\n",
    "vias_acceso = gpd.read_file(\n",
    "    \"https://raw.githubusercontent.com/mercedes1996/geogradev/main/docs/data/vias_accesso_sanmartin.geojson\"\n",
    ")\n",
    "\n",
    "m.add_gdf(\n",
    "    poligonos_ccnn,\n",
    "    style={\n",
    "        \"color\": \"green\",\n",
    "        \"fillColor\": \"none\",\n",
    "        \"weight\": 1,\n",
    "        \"opacity\": 0.7,\n",
    "    },\n",
    "    layer_name=\"Comunidades Nativas\",\n",
    "    zoom_to_layer=False,\n",
    ")\n",
    "\n",
    "m.add_gdf(\n",
    "    vias_acceso,\n",
    "    style={\n",
    "        \"color\": \"red\",\n",
    "        \"weight\": 1,\n",
    "        \"lineJoin\": \"round\",\n",
    "    },\n",
    "    layer_name=\"Vías de Acceso\",\n",
    "    zoom_to_layer=False,\n",
    ")\n",
    "\n",
    "m.add_legend(\n",
    "    title=\"Leyenda\",\n",
    "    legend_dict={\n",
    "        \"Comunidades Nativas\": \"green\",\n",
    "        \"Vías Principales\": \"red\",\n",
    "    },\n",
    ")\n",
    "\n",
    "m.add_layer_control()\n",
    "m.zoom_to_gdf(poligonos_ccnn)\n",
    "\n",
    "# Show map\n",
    "m"
   ]
  },
  {
   "cell_type": "code",
   "execution_count": null,
   "metadata": {},
   "outputs": [],
   "source": [
    "# question 5\n",
    "# Load GeoJSON files from GitHub (raw URLs)\n",
    "poligonos_ccnn = gpd.read_file(\n",
    "    \"https://raw.githubusercontent.com/mercedes1996/geogradev/main/docs/data/poligonos_sanmartin_ccnn.geojson\"\n",
    ")\n",
    "vias_acceso = gpd.read_file(\n",
    "    \"https://raw.githubusercontent.com/mercedes1996/geogradev/main/docs/data/vias_accesso_sanmartin.geojson\"\n",
    ")\n",
    "\n",
    "m = leafmap.Map(center=[-6.9, -76.3], zoom=8, height=\"600px\")\n",
    "\n",
    "left_layer = \"https://server.arcgisonline.com/ArcGIS/rest/services/World_Imagery/MapServer/tile/{z}/{y}/{x}\"\n",
    "right_layer = \"https://services.arcgisonline.com/ArcGIS/rest/services/World_Imagery/MapServer/tile/{z}/{y}/{x}\"\n",
    "\n",
    "m.split_map(\n",
    "    left_layer=left_layer,\n",
    "    right_layer=right_layer,\n",
    "    left_label=\"Imágenes 2010-2015\",\n",
    "    right_label=\"Imágenes 2020-2024\",\n",
    ")\n",
    "\n",
    "estilo_comunidades = {\n",
    "    \"color\": \"#FF00FF\",\n",
    "    \"weight\": 1.5,\n",
    "    \"fillColor\": \"none\",\n",
    "    \"dashArray\": \"5,5\",\n",
    "    \"opacity\": 0.8,\n",
    "}\n",
    "\n",
    "estilo_vias = {\n",
    "    \"color\": \"#00FFFF\",\n",
    "    \"weight\": 2.5,\n",
    "    \"lineJoin\": \"round\",\n",
    "    \"opacity\": 0.9,\n",
    "}\n",
    "\n",
    "m.add_gdf(\n",
    "    poligonos_ccnn,\n",
    "    style=estilo_comunidades,\n",
    "    layer_name=\"Comunidades Nativas\",\n",
    "    info_mode=\"on_hover\",\n",
    ")\n",
    "\n",
    "m.add_gdf(\n",
    "    vias_acceso, style=estilo_vias, layer_name=\"Vías de Acceso\", info_mode=\"on_hover\"\n",
    ")\n",
    "m.add_layer_control(position=\"topright\")\n",
    "m.add_legend(\n",
    "    title=\"Leyenda Temporal\",\n",
    "    legend_dict={\n",
    "        \"2010-2015\": \"#1a9641\",\n",
    "        \"2020-2024\": \"#d7191c\",\n",
    "        \"Comunidades\": \"#FF00FF\",\n",
    "        \"Vías\": \"#00FFFF\",\n",
    "    },\n",
    ")\n",
    "\n",
    "# Show map\n",
    "m"
   ]
  }
 ],
 "metadata": {
  "kernelspec": {
   "display_name": "geo",
   "language": "python",
   "name": "python3"
  },
  "language_info": {
   "codemirror_mode": {
    "name": "ipython",
    "version": 3
   },
   "file_extension": ".py",
   "mimetype": "text/x-python",
   "name": "python",
   "nbconvert_exporter": "python",
   "pygments_lexer": "ipython3",
   "version": "3.12.9"
  }
 },
 "nbformat": 4,
 "nbformat_minor": 2
}
